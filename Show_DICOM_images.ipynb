{
  "nbformat": 4,
  "nbformat_minor": 0,
  "metadata": {
    "colab": {
      "provenance": [],
      "authorship_tag": "ABX9TyOS0BZnFo2Vk3T8UQZaDOQf",
      "include_colab_link": true
    },
    "kernelspec": {
      "name": "python3",
      "display_name": "Python 3"
    },
    "language_info": {
      "name": "python"
    }
  },
  "cells": [
    {
      "cell_type": "markdown",
      "metadata": {
        "id": "view-in-github",
        "colab_type": "text"
      },
      "source": [
        "<a href=\"https://colab.research.google.com/github/ykitaguchi77/MRI_segmentation/blob/main/Show_DICOM_images.ipynb\" target=\"_parent\"><img src=\"https://colab.research.google.com/assets/colab-badge.svg\" alt=\"Open In Colab\"/></a>"
      ]
    },
    {
      "cell_type": "markdown",
      "source": [
        "#**View DICOM files**"
      ],
      "metadata": {
        "id": "IvEagg081w8k"
      }
    },
    {
      "cell_type": "code",
      "execution_count": null,
      "metadata": {
        "colab": {
          "base_uri": "https://localhost:8080/"
        },
        "id": "VQ1Gj37K1s9R",
        "outputId": "22238e01-2599-4215-fb1f-ae65843eec18"
      },
      "outputs": [
        {
          "output_type": "stream",
          "name": "stdout",
          "text": [
            "Mounted at /content/drive\n"
          ]
        }
      ],
      "source": [
        "from google.colab import drive\n",
        "drive.mount('/content/drive')"
      ]
    },
    {
      "cell_type": "code",
      "source": [
        "!pip install pydicom"
      ],
      "metadata": {
        "id": "o6d-oo7_3sB2"
      },
      "execution_count": null,
      "outputs": []
    },
    {
      "cell_type": "markdown",
      "source": [
        "###**DICOMファイルに拡張子を追加**"
      ],
      "metadata": {
        "id": "qyju_Vy_2mWI"
      }
    },
    {
      "cell_type": "code",
      "source": [
        "import os\n",
        "\n",
        "# 指定されたフォルダのパス\n",
        "parent_path = \"/content/drive/MyDrive/Deep_learning/MRI_segmentation/SampleImage\"\n",
        "\n",
        "# os.walkを使用してフォルダ内のすべてのファイルを再帰的に探索\n",
        "for root, dirs, files in os.walk(folder_path):\n",
        "    for file in files:\n",
        "        # ファイル名と拡張子を分割\n",
        "        file_name, file_ext = os.path.splitext(file)\n",
        "\n",
        "        # 拡張子がない場合\n",
        "        if not file_ext:\n",
        "            # 元のファイルのフルパス\n",
        "            old_file_path = os.path.join(root, file)\n",
        "\n",
        "            # 新しいファイル名（拡張子 \".dcm\" を追加）\n",
        "            new_file_name = file_name + \".dcm\"\n",
        "\n",
        "            # 新しいファイルのフルパス\n",
        "            new_file_path = os.path.join(root, new_file_name)\n",
        "\n",
        "            # ファイル名を変更\n",
        "            os.rename(old_file_path, new_file_path)\n",
        "\n",
        "            print(f\"ファイル名を変更しました: {file} -> {new_file_name}\")"
      ],
      "metadata": {
        "id": "jtRqLQJo16Nv"
      },
      "execution_count": null,
      "outputs": []
    },
    {
      "cell_type": "markdown",
      "source": [
        "###**フォルダのリストを表示**"
      ],
      "metadata": {
        "id": "3CMzNEWX2r6Z"
      }
    },
    {
      "cell_type": "code",
      "source": [
        "import os\n",
        "\n",
        "# 指定されたフォルダのパス\n",
        "parent_path = \"/content/drive/MyDrive/Deep_learning/MRI_segmentation/SampleImage\"\n",
        "\n",
        "# フォルダ内のフォルダをリストで取得\n",
        "folders = [dir for dir in os.listdir(parent_path) if os.path.isdir(os.path.join(parent_path, dir))]\n",
        "\n",
        "# フォルダ名を数字の順にソート\n",
        "sorted_folders = sorted(folders, key=lambda x: int(x[2:]))\n",
        "\n",
        "# フォルダのリストを表示\n",
        "print(\"フォルダのリスト:\")\n",
        "for folder in sorted_folders:\n",
        "    print(folder)"
      ],
      "metadata": {
        "colab": {
          "base_uri": "https://localhost:8080/"
        },
        "id": "8NxWlR1K23nf",
        "outputId": "a44f1635-8aea-4556-ee76-8ccf739da2e1"
      },
      "execution_count": null,
      "outputs": [
        {
          "output_type": "stream",
          "name": "stdout",
          "text": [
            "フォルダのリスト:\n",
            "SE00000\n",
            "SE00001\n",
            "SE00002\n",
            "SE00003\n",
            "SE00004\n"
          ]
        }
      ]
    },
    {
      "cell_type": "code",
      "source": [
        "import os\n",
        "import pydicom\n",
        "import matplotlib.pyplot as plt\n",
        "\n",
        "# 指定されたフォルダのパス\n",
        "folder_num = 2\n",
        "folder_path = f\"{parent_path}/{sorted_folders[folder_num]}\"\n",
        "\n",
        "# フォルダ内の.dcmファイルをリストで取得\n",
        "dcm_files = [file for file in os.listdir(folder_path) if file.endswith(\".dcm\")]\n",
        "\n",
        "# .dcmファイルを3桁目からの数字でソート\n",
        "sorted_dcm_files = sorted(dcm_files, key=lambda x: int(x[2:-4]))\n",
        "\n",
        "# 各.dcmファイルを読み込んで画像として表示\n",
        "for i, dcm_file in enumerate(sorted_dcm_files):\n",
        "    # .dcmファイルのフルパスを取得\n",
        "    dcm_path = os.path.join(folder_path, dcm_file)\n",
        "\n",
        "    # pydicomを使用して.dcmファイルを読み込む\n",
        "    dcm_data = pydicom.dcmread(dcm_path)\n",
        "\n",
        "    # 画像データを取得\n",
        "    image_data = dcm_data.pixel_array\n",
        "\n",
        "    # 画像のピクセル数を取得\n",
        "    rows, cols = image_data.shape\n",
        "\n",
        "    # 画像を表示\n",
        "    fig, ax = plt.subplots(figsize=(cols/100, rows/100))\n",
        "    ax.imshow(image_data, cmap=\"gray\")\n",
        "    ax.set_title(dcm_file)\n",
        "    ax.axis(\"off\")\n",
        "\n",
        "    plt.tight_layout()\n",
        "    plt.show()"
      ],
      "metadata": {
        "id": "7ggHA8yr39ya"
      },
      "execution_count": null,
      "outputs": []
    },
    {
      "cell_type": "code",
      "source": [
        "import os\n",
        "import pydicom\n",
        "from PIL import Image\n",
        "import matplotlib.pyplot as plt\n",
        "\n",
        "# 指定されたフォルダのパス\n",
        "input_folder_path = folder_path\n",
        "\n",
        "# フォルダ内の.dcmファイルをリストで取得\n",
        "dcm_files = [file for file in os.listdir(input_folder_path) if file.endswith(\".dcm\")]\n",
        "\n",
        "# .dcmファイルを3桁目からの数字でソート\n",
        "sorted_dcm_files = sorted(dcm_files, key=lambda x: int(x[2:6]))\n",
        "\n",
        "# 画像を表示するための図を作成\n",
        "fig, axes = plt.subplots(5, 5, figsize=(12, 12))\n",
        "axes = axes.ravel()\n",
        "\n",
        "# 各.dcmファイルを読み込んでリサイズして表示\n",
        "for i, dcm_file in enumerate(sorted_dcm_files):\n",
        "    # .dcmファイルのフルパスを取得\n",
        "    dcm_path = os.path.join(input_folder_path, dcm_file)\n",
        "\n",
        "    # pydicomを使用して.dcmファイルを読み込む\n",
        "    dcm_data = pydicom.dcmread(dcm_path)\n",
        "\n",
        "    # 画像データを取得\n",
        "    image_data = dcm_data.pixel_array\n",
        "\n",
        "    # PIL.Imageを使用して画像を作成し、モードを「L」に変換\n",
        "    image = Image.fromarray(image_data).convert(\"L\")\n",
        "\n",
        "    # 画像をリサイズ\n",
        "    resized_image = image.resize((128, 128))\n",
        "\n",
        "    # リサイズした画像を表示\n",
        "    axes[i].imshow(resized_image, cmap=\"gray\")\n",
        "    axes[i].axis(\"off\")\n",
        "\n",
        "    # 25枚の画像を表示したら終了\n",
        "    if i == 24:\n",
        "        break\n",
        "\n",
        "plt.tight_layout()\n",
        "plt.show()"
      ],
      "metadata": {
        "id": "Hh1lTsX19MIJ"
      },
      "execution_count": null,
      "outputs": []
    },
    {
      "cell_type": "code",
      "source": [
        "import os\n",
        "import pydicom\n",
        "from PIL import Image\n",
        "\n",
        "# 指定されたフォルダのパス\n",
        "input_folder_path = folder_path\n",
        "output_folder_path = \"/content/drive/MyDrive/Deep_learning/MRI_segmentation/OutputImage\"\n",
        "\n",
        "\n",
        "# 出力フォルダ名を入力フォルダ名から取得\n",
        "output_folder_name = os.path.basename(input_folder_path)\n",
        "\n",
        "# 出力フォルダのフルパスを作成\n",
        "output_folder_full_path = os.path.join(output_folder_path, output_folder_name)\n",
        "\n",
        "# 出力フォルダが存在しない場合は作成\n",
        "os.makedirs(output_folder_full_path, exist_ok=True)\n",
        "\n",
        "# フォルダ内の.dcmファイルをリストで取得\n",
        "dcm_files = [file for file in os.listdir(input_folder_path) if file.endswith(\".dcm\")]\n",
        "\n",
        "# .dcmファイルを3桁目からの数字でソート\n",
        "sorted_dcm_files = sorted(dcm_files, key=lambda x: int(x[2:6]))\n",
        "\n",
        "# 各.dcmファイルを読み込んでJPEGで保存\n",
        "for dcm_file in sorted_dcm_files:\n",
        "    # .dcmファイルのフルパスを取得\n",
        "    dcm_path = os.path.join(input_folder_path, dcm_file)\n",
        "\n",
        "    # pydicomを使用して.dcmファイルを読み込む\n",
        "    dcm_data = pydicom.dcmread(dcm_path)\n",
        "\n",
        "    # 画像データを取得\n",
        "    image_data = dcm_data.pixel_array\n",
        "\n",
        "    # PIL.Imageを使用して画像を作成し、モードを「L」に変換\n",
        "    image = Image.fromarray(image_data).convert(\"L\")\n",
        "\n",
        "    # 画像をJPEGで保存\n",
        "    output_file_name = f\"{os.path.splitext(dcm_file)[0]}.jpg\"\n",
        "    output_file_path = os.path.join(output_folder_full_path, output_file_name)\n",
        "    image.save(output_file_path, \"JPEG\")"
      ],
      "metadata": {
        "id": "7mLUQoe439w5"
      },
      "execution_count": null,
      "outputs": []
    }
  ]
}